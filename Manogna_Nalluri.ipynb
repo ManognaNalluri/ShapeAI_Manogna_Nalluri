{
  "nbformat": 4,
  "nbformat_minor": 0,
  "metadata": {
    "colab": {
      "name": "Manogna Nalluri.ipynb",
      "provenance": []
    },
    "kernelspec": {
      "name": "python3",
      "display_name": "Python 3"
    },
    "language_info": {
      "name": "python"
    }
  },
  "cells": [
    {
      "cell_type": "code",
      "metadata": {
        "colab": {
          "base_uri": "https://localhost:8080/"
        },
        "id": "0umqi_RDscD4",
        "outputId": "55726d90-1b53-4c57-c0cd-883ba2e3223f"
      },
      "source": [
        "from keras.datasets import mnist\n",
        "\n",
        "data = mnist.load_data()"
      ],
      "execution_count": 2,
      "outputs": [
        {
          "output_type": "stream",
          "text": [
            "Downloading data from https://storage.googleapis.com/tensorflow/tf-keras-datasets/mnist.npz\n",
            "11493376/11490434 [==============================] - 0s 0us/step\n"
          ],
          "name": "stdout"
        }
      ]
    },
    {
      "cell_type": "code",
      "metadata": {
        "id": "52EuY5gZtdOG"
      },
      "source": [
        "(x_train, y_train), (x_test, y_test) = mnist.load_data()"
      ],
      "execution_count": 3,
      "outputs": []
    },
    {
      "cell_type": "code",
      "metadata": {
        "colab": {
          "base_uri": "https://localhost:8080/",
          "height": 285
        },
        "id": "YE5puIjXwkeW",
        "outputId": "da9b19af-94be-41fa-a980-1745341e15f5"
      },
      "source": [
        "import matplotlib.pyplot as plt\n",
        "\n",
        "plt.subplot(221)\n",
        "plt.imshow(x_train[0], cmap=plt.get_cmap('gray'))\n",
        "plt.subplot(222)\n",
        "plt.imshow(x_train[1], cmap=plt.get_cmap('gray'))\n",
        "plt.subplot(223)\n",
        "plt.imshow(x_train[2], cmap=plt.get_cmap('gray'))\n",
        "plt.subplot(224)\n",
        "plt.imshow(x_train[3], cmap=plt.get_cmap('gray'))\n"
      ],
      "execution_count": 5,
      "outputs": [
        {
          "output_type": "execute_result",
          "data": {
            "text/plain": [
              "<matplotlib.image.AxesImage at 0x7f55c5ea9850>"
            ]
          },
          "metadata": {
            "tags": []
          },
          "execution_count": 5
        },
        {
          "output_type": "display_data",
          "data": {
            "image/png": "[encoded data removed]",
            "text/plain": [
              "<Figure size 432x288 with 4 Axes>"
            ]
          },
          "metadata": {
            "tags": [],
            "needs_background": "light"
          }
        }
      ]
    },
    {
      "cell_type": "code",
      "metadata": {
        "colab": {
          "base_uri": "https://localhost:8080/"
        },
        "id": "NbW7lDtf0npa",
        "outputId": "43bb0a17-9df2-42b2-d379-f6ea331a9ec6"
      },
      "source": [
        "x_train[0].shape"
      ],
      "execution_count": 6,
      "outputs": [
        {
          "output_type": "execute_result",
          "data": {
            "text/plain": [
              "(28, 28)"
            ]
          },
          "metadata": {
            "tags": []
          },
          "execution_count": 6
        }
      ]
    },
    {
      "cell_type": "code",
      "metadata": {
        "id": "RnEiDU5m0z9s"
      },
      "source": [
        "x_train = x_train.reshape((x_train.shape[0], 28*28)).astype('float32')\n",
        "x_test = x_test.reshape((x_test.shape[0], 28*28)).astype('float32')\n"
      ],
      "execution_count": 12,
      "outputs": []
    },
    {
      "cell_type": "code",
      "metadata": {
        "id": "hI1GWKnS1O0q"
      },
      "source": [
        "x_train = x_train/255\n",
        "x_test = x_test/255"
      ],
      "execution_count": 13,
      "outputs": []
    },
    {
      "cell_type": "code",
      "metadata": {
        "id": "yLW3zJpu2MFE"
      },
      "source": [
        "from keras.utils import np_utils\n",
        "\n",
        "y_train = np_utils.to_categorical(y_train)\n",
        "y_test = np_utils.to_categorical(y_test)\n",
        "num_classes = y_test.shape[1]"
      ],
      "execution_count": 16,
      "outputs": []
    },
    {
      "cell_type": "code",
      "metadata": {
        "id": "CJ2VvmJv5Pon"
      },
      "source": [
        "from keras.models import Sequential\n",
        "from keras.layers import Dense"
      ],
      "execution_count": 19,
      "outputs": []
    },
    {
      "cell_type": "code",
      "metadata": {
        "id": "KzMMr_kg5Oof"
      },
      "source": [
        "model = Sequential()\n",
        "\n",
        "#first hidden layer\n",
        "model.add(Dense(32, input_dim = 28*28, activation='relu'))\n",
        "\n",
        "#second hidden layer\n",
        "model.add(Dense(64, activation='relu'))\n",
        "\n",
        "#Add output layer having 10 neurons (since there are 10 classes/ categories in the output variable)\n",
        "model.add(Dense(10, activation='softmax'))\n"
      ],
      "execution_count": 22,
      "outputs": []
    },
    {
      "cell_type": "code",
      "metadata": {
        "id": "1B5EUNWq2gfk"
      },
      "source": [
        "# compile model\n",
        "model.compile(loss='categorical_crossentropy', optimizer='adam', metrics=['accuracy'])\n"
      ],
      "execution_count": 24,
      "outputs": []
    },
    {
      "cell_type": "code",
      "metadata": {
        "colab": {
          "base_uri": "https://localhost:8080/"
        },
        "id": "o5KpjiOr8jN_",
        "outputId": "c8551e66-4165-43b5-ee94-54be502ece9f"
      },
      "source": [
        "model.summary()"
      ],
      "execution_count": 25,
      "outputs": [
        {
          "output_type": "stream",
          "text": [
            "Model: \"sequential_2\"\n",
            "_________________________________________________________________\n",
            "Layer (type)                 Output Shape              Param #   \n",
            "=================================================================\n",
            "dense_5 (Dense)              (None, 32)                25120     \n",
            "_________________________________________________________________\n",
            "dense_6 (Dense)              (None, 64)                2112      \n",
            "_________________________________________________________________\n",
            "dense_7 (Dense)              (None, 10)                650       \n",
            "=================================================================\n",
            "Total params: 27,882\n",
            "Trainable params: 27,882\n",
            "Non-trainable params: 0\n",
            "_________________________________________________________________\n"
          ],
          "name": "stdout"
        }
      ]
    },
    {
      "cell_type": "code",
      "metadata": {
        "colab": {
          "base_uri": "https://localhost:8080/"
        },
        "id": "_wLHHSQO8rnN",
        "outputId": "1f38885e-7305-4b34-c431-ce060c311ed6"
      },
      "source": [
        "model.fit(x_train, y_train, validation_split=0.2, epochs=50, batch_size=100)"
      ],
      "execution_count": 29,
      "outputs": [
        {
          "output_type": "stream",
          "text": [
            "Epoch 1/50\n",
            "480/480 [==============================] - 1s 3ms/step - loss: 0.0155 - accuracy: 0.9956 - val_loss: 0.1494 - val_accuracy: 0.9681\n",
            "Epoch 2/50\n",
            "480/480 [==============================] - 1s 3ms/step - loss: 0.0180 - accuracy: 0.9942 - val_loss: 0.1386 - val_accuracy: 0.9693\n",
            "Epoch 3/50\n",
            "480/480 [==============================] - 1s 3ms/step - loss: 0.0143 - accuracy: 0.9957 - val_loss: 0.1423 - val_accuracy: 0.9689\n",
            "Epoch 4/50\n",
            "480/480 [==============================] - 1s 3ms/step - loss: 0.0133 - accuracy: 0.9959 - val_loss: 0.1496 - val_accuracy: 0.9695\n",
            "Epoch 5/50\n",
            "480/480 [==============================] - 1s 3ms/step - loss: 0.0142 - accuracy: 0.9956 - val_loss: 0.1509 - val_accuracy: 0.9688\n",
            "Epoch 6/50\n",
            "480/480 [==============================] - 1s 3ms/step - loss: 0.0124 - accuracy: 0.9963 - val_loss: 0.1447 - val_accuracy: 0.9691\n",
            "Epoch 7/50\n",
            "480/480 [==============================] - 1s 2ms/step - loss: 0.0118 - accuracy: 0.9966 - val_loss: 0.1442 - val_accuracy: 0.9709\n",
            "Epoch 8/50\n",
            "480/480 [==============================] - 1s 3ms/step - loss: 0.0105 - accuracy: 0.9966 - val_loss: 0.1543 - val_accuracy: 0.9698\n",
            "Epoch 9/50\n",
            "480/480 [==============================] - 1s 3ms/step - loss: 0.0093 - accuracy: 0.9973 - val_loss: 0.1619 - val_accuracy: 0.9687\n",
            "Epoch 10/50\n",
            "480/480 [==============================] - 1s 2ms/step - loss: 0.0105 - accuracy: 0.9967 - val_loss: 0.1605 - val_accuracy: 0.9702\n",
            "Epoch 11/50\n",
            "480/480 [==============================] - 1s 3ms/step - loss: 0.0133 - accuracy: 0.9956 - val_loss: 0.1726 - val_accuracy: 0.9667\n",
            "Epoch 12/50\n",
            "480/480 [==============================] - 1s 3ms/step - loss: 0.0064 - accuracy: 0.9984 - val_loss: 0.1642 - val_accuracy: 0.9706\n",
            "Epoch 13/50\n",
            "480/480 [==============================] - 1s 3ms/step - loss: 0.0072 - accuracy: 0.9979 - val_loss: 0.1703 - val_accuracy: 0.9693\n",
            "Epoch 14/50\n",
            "480/480 [==============================] - 1s 3ms/step - loss: 0.0093 - accuracy: 0.9973 - val_loss: 0.1901 - val_accuracy: 0.9659\n",
            "Epoch 15/50\n",
            "480/480 [==============================] - 1s 3ms/step - loss: 0.0096 - accuracy: 0.9970 - val_loss: 0.1748 - val_accuracy: 0.9690\n",
            "Epoch 16/50\n",
            "480/480 [==============================] - 1s 2ms/step - loss: 0.0096 - accuracy: 0.9968 - val_loss: 0.1937 - val_accuracy: 0.9658\n",
            "Epoch 17/50\n",
            "480/480 [==============================] - 1s 3ms/step - loss: 0.0066 - accuracy: 0.9981 - val_loss: 0.1714 - val_accuracy: 0.9692\n",
            "Epoch 18/50\n",
            "480/480 [==============================] - 1s 3ms/step - loss: 0.0032 - accuracy: 0.9995 - val_loss: 0.1691 - val_accuracy: 0.9711\n",
            "Epoch 19/50\n",
            "480/480 [==============================] - 1s 3ms/step - loss: 0.0095 - accuracy: 0.9970 - val_loss: 0.2316 - val_accuracy: 0.9630\n",
            "Epoch 20/50\n",
            "480/480 [==============================] - 1s 3ms/step - loss: 0.0150 - accuracy: 0.9951 - val_loss: 0.1817 - val_accuracy: 0.9699\n",
            "Epoch 21/50\n",
            "480/480 [==============================] - 1s 3ms/step - loss: 0.0056 - accuracy: 0.9983 - val_loss: 0.1802 - val_accuracy: 0.9699\n",
            "Epoch 22/50\n",
            "480/480 [==============================] - 1s 3ms/step - loss: 0.0026 - accuracy: 0.9995 - val_loss: 0.1832 - val_accuracy: 0.9696\n",
            "Epoch 23/50\n",
            "480/480 [==============================] - 1s 3ms/step - loss: 0.0037 - accuracy: 0.9991 - val_loss: 0.1803 - val_accuracy: 0.9693\n",
            "Epoch 24/50\n",
            "480/480 [==============================] - 1s 3ms/step - loss: 0.0108 - accuracy: 0.9963 - val_loss: 0.1997 - val_accuracy: 0.9697\n",
            "Epoch 25/50\n",
            "480/480 [==============================] - 1s 3ms/step - loss: 0.0074 - accuracy: 0.9976 - val_loss: 0.1886 - val_accuracy: 0.9687\n",
            "Epoch 26/50\n",
            "480/480 [==============================] - 1s 2ms/step - loss: 0.0064 - accuracy: 0.9982 - val_loss: 0.1850 - val_accuracy: 0.9703\n",
            "Epoch 27/50\n",
            "480/480 [==============================] - 1s 3ms/step - loss: 0.0030 - accuracy: 0.9992 - val_loss: 0.1861 - val_accuracy: 0.9699\n",
            "Epoch 28/50\n",
            "480/480 [==============================] - 1s 3ms/step - loss: 0.0012 - accuracy: 0.9999 - val_loss: 0.1836 - val_accuracy: 0.9718\n",
            "Epoch 29/50\n",
            "480/480 [==============================] - 1s 2ms/step - loss: 7.3114e-04 - accuracy: 0.9999 - val_loss: 0.1850 - val_accuracy: 0.9714\n",
            "Epoch 30/50\n",
            "480/480 [==============================] - 1s 3ms/step - loss: 0.0122 - accuracy: 0.9964 - val_loss: 0.2604 - val_accuracy: 0.9611\n",
            "Epoch 31/50\n",
            "480/480 [==============================] - 1s 3ms/step - loss: 0.0160 - accuracy: 0.9944 - val_loss: 0.1961 - val_accuracy: 0.9705\n",
            "Epoch 32/50\n",
            "480/480 [==============================] - 1s 3ms/step - loss: 0.0040 - accuracy: 0.9988 - val_loss: 0.1979 - val_accuracy: 0.9711\n",
            "Epoch 33/50\n",
            "480/480 [==============================] - 1s 3ms/step - loss: 0.0020 - accuracy: 0.9996 - val_loss: 0.1966 - val_accuracy: 0.9704\n",
            "Epoch 34/50\n",
            "480/480 [==============================] - 1s 3ms/step - loss: 0.0022 - accuracy: 0.9996 - val_loss: 0.2010 - val_accuracy: 0.9693\n",
            "Epoch 35/50\n",
            "480/480 [==============================] - 1s 2ms/step - loss: 6.9842e-04 - accuracy: 1.0000 - val_loss: 0.1963 - val_accuracy: 0.9706\n",
            "Epoch 36/50\n",
            "480/480 [==============================] - 1s 3ms/step - loss: 5.2385e-04 - accuracy: 1.0000 - val_loss: 0.1954 - val_accuracy: 0.9706\n",
            "Epoch 37/50\n",
            "480/480 [==============================] - 1s 3ms/step - loss: 4.0109e-04 - accuracy: 1.0000 - val_loss: 0.1987 - val_accuracy: 0.9717\n",
            "Epoch 38/50\n",
            "480/480 [==============================] - 1s 2ms/step - loss: 0.0185 - accuracy: 0.9949 - val_loss: 0.2426 - val_accuracy: 0.9668\n",
            "Epoch 39/50\n",
            "480/480 [==============================] - 1s 3ms/step - loss: 0.0126 - accuracy: 0.9959 - val_loss: 0.2170 - val_accuracy: 0.9688\n",
            "Epoch 40/50\n",
            "480/480 [==============================] - 1s 3ms/step - loss: 0.0027 - accuracy: 0.9993 - val_loss: 0.2132 - val_accuracy: 0.9700\n",
            "Epoch 41/50\n",
            "480/480 [==============================] - 1s 3ms/step - loss: 0.0011 - accuracy: 0.9999 - val_loss: 0.2080 - val_accuracy: 0.9707\n",
            "Epoch 42/50\n",
            "480/480 [==============================] - 1s 2ms/step - loss: 4.1769e-04 - accuracy: 1.0000 - val_loss: 0.2046 - val_accuracy: 0.9707\n",
            "Epoch 43/50\n",
            "480/480 [==============================] - 1s 2ms/step - loss: 3.2225e-04 - accuracy: 1.0000 - val_loss: 0.2059 - val_accuracy: 0.9710\n",
            "Epoch 44/50\n",
            "480/480 [==============================] - 1s 3ms/step - loss: 3.1153e-04 - accuracy: 1.0000 - val_loss: 0.2123 - val_accuracy: 0.9717\n",
            "Epoch 45/50\n",
            "480/480 [==============================] - 1s 3ms/step - loss: 3.3234e-04 - accuracy: 1.0000 - val_loss: 0.2074 - val_accuracy: 0.9707\n",
            "Epoch 46/50\n",
            "480/480 [==============================] - 1s 3ms/step - loss: 3.2627e-04 - accuracy: 1.0000 - val_loss: 0.2144 - val_accuracy: 0.9713\n",
            "Epoch 47/50\n",
            "480/480 [==============================] - 1s 3ms/step - loss: 0.0282 - accuracy: 0.9924 - val_loss: 0.2327 - val_accuracy: 0.9678\n",
            "Epoch 48/50\n",
            "480/480 [==============================] - 1s 3ms/step - loss: 0.0068 - accuracy: 0.9976 - val_loss: 0.2256 - val_accuracy: 0.9706\n",
            "Epoch 49/50\n",
            "480/480 [==============================] - 1s 2ms/step - loss: 0.0027 - accuracy: 0.9991 - val_loss: 0.2220 - val_accuracy: 0.9702\n",
            "Epoch 50/50\n",
            "480/480 [==============================] - 1s 2ms/step - loss: 5.4050e-04 - accuracy: 1.0000 - val_loss: 0.2165 - val_accuracy: 0.9718\n"
          ],
          "name": "stdout"
        },
        {
          "output_type": "execute_result",
          "data": {
            "text/plain": [
              "<tensorflow.python.keras.callbacks.History at 0x7f55bdc60350>"
            ]
          },
          "metadata": {
            "tags": []
          },
          "execution_count": 29
        }
      ]
    },
    {
      "cell_type": "code",
      "metadata": {
        "colab": {
          "base_uri": "https://localhost:8080/"
        },
        "id": "3yvBWnf989lJ",
        "outputId": "d273060e-63e6-4bec-cedb-572168bb4664"
      },
      "source": [
        "scores = model.evaluate(x_test, y_test)\n",
        "print(scores)"
      ],
      "execution_count": 31,
      "outputs": [
        {
          "output_type": "stream",
          "text": [
            "313/313 [==============================] - 1s 2ms/step - loss: 0.1990 - accuracy: 0.9719\n",
            "[0.19901062548160553, 0.9718999862670898]\n"
          ],
          "name": "stdout"
        }
      ]
    },
    {
      "cell_type": "code",
      "metadata": {
        "id": "pMBAmd2L9OIZ"
      },
      "source": [
        "predictions = model.predict(x_test)"
      ],
      "execution_count": 30,
      "outputs": []
    }
  ]
}